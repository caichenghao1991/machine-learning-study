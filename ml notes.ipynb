{
 "cells": [
  {
   "cell_type": "markdown",
   "metadata": {
    "collapsed": false,
    "pycharm": {
     "name": "#%% md\n"
    }
   },
   "source": [
    "# Machine Learning Notes"
   ]
  },
  {
   "cell_type": "markdown",
   "source": [
    "Overfitting: a model matches the training data almost perfectly, but does poorly in validation and other new \n",
    "## 线性回归（linear regression）\n",
    "定义回归模型（model）: $f_\\theta(x)=\\theta_0+\\theta_1x$  $\\;\\;\\;\\;\\;\\;$ 【一次线性模型，$\\theta_0$为斜率（slope）， $\\theta_0$为截距（intercept)】<br>     \n",
    "    其中参数（parameter）为 $\\theta$， x 为输入变量或输入特征(input variable/features)， y 为输出变量或目标变量(output variable/target variable)<br>\n",
    "    目标函数（cost/objective function）: $$E(\\theta)=\\frac{1}{2}\\sum^n_{i=1}\\,(y^{(i)}-f_\\theta(x^{(i)}))^2$$\n",
    "    梯度下降法（gradient descent）: 对于多变量函数不能用普通的微分，而要用偏微分。其中 $\\eta$ 为学习率（learning rate）<br>\n",
    "    $$\\theta_0:=\\theta_0-\\eta\\frac{\\partial E}{\\partial \\theta_0}, \\;\\;\\;\\;\\; \\theta_1:=\\theta_1-\\eta\\frac{\\partial E}{\\partial \\theta_1}$$\n",
    "    令 $u=E(\\theta), \\;\\;\\;\\;\\; v=f_\\theta(x), \\;\\;\\;\\;\\; \\frac{\\partial u}{\\partial \\theta_0}=\\frac{\\partial u}{\\partial v}\\cdot\\frac{\\partial v}{\\partial \\theta_0},$<br>\n",
    "    $$\\frac{\\partial u}{\\partial v}=\\frac{\\partial }{\\partial v}(\\frac{1}{2}\\sum^n_{i=1}\\,(y^{(i)}-v)^2)=\\frac{1}{2}\\sum^n_{i=1}\\,(\\frac{\\partial }{\\partial v}\n",
    "    (y^{(i)^2}-2y^{(i)}v+v^2))=\\sum^n_{i=1}\\,(v-y^{(i)}),\\;\\;\\;\\;\\;  \\frac{\\partial v}{\\partial \\theta_0}=\\frac{\\partial }{\\partial \\theta_0}(\\theta_0+\\theta_1 x)=1$$\n",
    "    $$\\frac{\\partial u}{\\partial \\theta_0}=\\frac{\\partial u}{\\partial v}\\cdot\\frac{\\partial v}{\\partial \\theta_0}=\\sum^n_{i=1}\\,(v-y^{(i)})=\\sum^n_{i=1}\\,(f_\\theta(x^{(i)})-y^{(i)})$$\n",
    "    同理， $\\frac{\\partial v}{\\partial \\theta_1}=\\frac{\\partial }{\\partial \\theta_1}(\\theta_0+\\theta_1 x)=x, \\;\\;\\;\\;\\; \\frac{\\partial u}{\\partial \\theta_1}=$\n",
    "    $\\frac{\\partial u}{\\partial v}\\cdot\\frac{\\partial v}{\\partial \\theta_1}=\\sum^n_{i=1}\\,(v-y^{(i)})\\cdot x^{(i)}=\\sum^n_{i=1}\\,(f_\\theta(x^{(i)})-y^{(i)})x^{(i)}$ <br>\n",
    "    $$\\theta_0:=\\theta_0-\\eta\\sum^n_{i=1}\\,(f_\\theta(x^{(i)})-y^{(i)}), \\;\\;\\;\\;\\; \\theta_1:=\\theta_1-\\eta\\sum^n_{i=1}\\,(f_\\theta(x^{(i)})-y^{(i)})x^{(i)}$$\n",
    "    \n"
   ],
   "metadata": {
    "collapsed": false,
    "pycharm": {
     "name": "#%% md\n"
    }
   }
  },
  {
   "cell_type": "code",
   "execution_count": null,
   "outputs": [],
   "source": [],
   "metadata": {
    "collapsed": false,
    "pycharm": {
     "name": "#%%\n"
    }
   }
  }
 ],
 "metadata": {
  "kernelspec": {
   "display_name": "Python 3",
   "language": "python",
   "name": "python3"
  },
  "language_info": {
   "codemirror_mode": {
    "name": "ipython",
    "version": 3
   },
   "file_extension": ".py",
   "mimetype": "text/x-python",
   "name": "python",
   "nbconvert_exporter": "python",
   "pygments_lexer": "ipython3",
   "version": "3.10.10"
  },
  "vscode": {
   "interpreter": {
    "hash": "e5ea5b284b387cf407f411a3436edf59739a2fcbca705f3a00844e9d18bc37be"
   }
  }
 },
 "nbformat": 4,
 "nbformat_minor": 0
}